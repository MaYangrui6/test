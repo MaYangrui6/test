{
 "cells": [
  {
   "cell_type": "markdown",
   "id": "d41a5234-c602-45b1-b290-afda092509ce",
   "metadata": {},
   "source": [
    "## table_statistics"
   ]
  },
  {
   "cell_type": "code",
   "execution_count": 1,
   "id": "4fb4c22b-d422-44cd-9553-3df4828c83fb",
   "metadata": {},
   "outputs": [
    {
     "name": "stdout",
     "output_type": "stream",
     "text": [
      "CSV file saved to: ./information/table_statistics.csv\n"
     ]
    }
   ],
   "source": [
    "import psycopg2\n",
    "import csv\n",
    "\n",
    "# 连接到 PostgreSQL 数据库\n",
    "conn = psycopg2.connect(\n",
    "    database=\"tpcds\",\n",
    "    user=\"postgres\",\n",
    "    password=\"postgres\",\n",
    "    host=\"127.0.0.1\",\n",
    "    port=\"5432\"\n",
    ")\n",
    "\n",
    "# 创建一个数据库游标\n",
    "cur = conn.cursor()\n",
    "\n",
    "# 执行查询\n",
    "cur.execute(\"\"\"\n",
    "    SELECT\n",
    "        schemaname,\n",
    "        tablename,\n",
    "        attname AS column_name,\n",
    "        null_frac AS null_fraction,\n",
    "        n_distinct AS distinct_values,\n",
    "        correlation\n",
    "    FROM\n",
    "        pg_stats\n",
    "    WHERE\n",
    "        schemaname NOT LIKE 'pg_%' AND\n",
    "        schemaname != 'information_schema'\n",
    "    ORDER BY\n",
    "        schemaname,\n",
    "        tablename,\n",
    "        column_name\n",
    "\"\"\")\n",
    "\n",
    "# 获取查询结果\n",
    "query_result = cur.fetchall()\n",
    "\n",
    "# 关闭数据库连接\n",
    "cur.close()\n",
    "conn.close()\n",
    "\n",
    "# 将结果写入 CSV 文件\n",
    "csv_file_path = \"./information/table_statistics.csv\"\n",
    "with open(csv_file_path, mode='w', newline='') as file:\n",
    "    writer = csv.writer(file)\n",
    "    \n",
    "    # 写入表头\n",
    "    writer.writerow([\"Schema\", \"Table\", \"Column\", \"Null Fraction\", \"Distinct Values\", \"Correlation\"])\n",
    "    \n",
    "    # 写入数据\n",
    "    writer.writerows(query_result)\n",
    "\n",
    "print(f\"CSV file saved to: {csv_file_path}\")\n"
   ]
  },
  {
   "cell_type": "code",
   "execution_count": 3,
   "id": "3e6fa44a-85ed-4552-b792-7abd1303495d",
   "metadata": {
    "tags": []
   },
   "outputs": [
    {
     "name": "stdout",
     "output_type": "stream",
     "text": [
      "Table: customer   Rows: 100000\n",
      "Table: store   Rows: 12\n",
      "Table: web_sales   Rows: 719384\n",
      "Table: inventory   Rows: 11745095\n",
      "Table: store_returns   Rows: 287514\n",
      "Table: store_sales   Rows: 2880189\n",
      "Table: catalog_sales   Rows: 1441539\n",
      "Table: promotion   Rows: 300\n",
      "Table: call_center   Rows: 6\n",
      "Table: customer_demographics   Rows: 1920800\n",
      "Table: item   Rows: 18000\n",
      "Table: time_dim   Rows: 86400\n",
      "Table: reason   Rows: 35\n",
      "Table: warehouse   Rows: 5\n",
      "Table: web_returns   Rows: 71763\n",
      "Table: catalog_returns   Rows: 144067\n",
      "Table: web_site   Rows: 30\n",
      "Table: catalog_page   Rows: 11718\n",
      "Table: ship_mode   Rows: 20\n",
      "Table: web_page   Rows: 60\n",
      "Table: date_dim   Rows: 73049\n",
      "Table: dbgen_version   Rows: 0\n",
      "Table: household_demographics   Rows: 7200\n",
      "Table: customer_address   Rows: 50000\n",
      "Table: income_band   Rows: 20\n"
     ]
    },
    {
     "data": {
      "text/plain": [
       "'CSV文件已创建:'"
      ]
     },
     "metadata": {},
     "output_type": "display_data"
    },
    {
     "data": {
      "text/plain": [
       "'./information/table_row_counts.csv'"
      ]
     },
     "metadata": {},
     "output_type": "display_data"
    }
   ],
   "source": [
    "import csv\n",
    "import psycopg2\n",
    "\n",
    "# 连接到 PostgreSQL 数据库\n",
    "conn = psycopg2.connect(\n",
    "    database=\"tpcds\",\n",
    "    user=\"postgres\",\n",
    "    password=\"postgres\",\n",
    "    host=\"127.0.0.1\",\n",
    "    port=\"5432\"\n",
    ")\n",
    "\n",
    "# 创建一个游标对象\n",
    "cur = conn.cursor()\n",
    "\n",
    "# 执行查询以获取每个表的行数\n",
    "cur.execute(\"SELECT relname, n_live_tup FROM pg_stat_user_tables;\")\n",
    "\n",
    "# 获取结果\n",
    "rows = cur.fetchall()\n",
    "\n",
    "# 打印每个表的行数\n",
    "for row in rows:\n",
    "    print(\"Table:\", row[0], \"  Rows:\", row[1])\n",
    "\n",
    "# 指定要写入的CSV文件名\n",
    "csv_file = \"./information/table_row_counts.csv\"\n",
    "\n",
    "# 打开CSV文件并写入数据\n",
    "with open(csv_file, mode='w', newline='') as file:\n",
    "    writer = csv.writer(file)\n",
    "    # 写入表头\n",
    "    writer.writerow(['Table', 'Rows'])\n",
    "    # 写入每行数据\n",
    "    for row in rows:\n",
    "        writer.writerow(row)\n",
    "\n",
    "# 关闭游标和连接\n",
    "cur.close()\n",
    "conn.close()\n",
    "\n",
    "display(\"CSV文件已创建:\", csv_file)"
   ]
  },
  {
   "cell_type": "markdown",
   "id": "6b385e56-984a-4448-bd22-2bfef96b6935",
   "metadata": {},
   "source": [
    "## Cond"
   ]
  },
  {
   "cell_type": "code",
   "execution_count": 2,
   "id": "3eb1961c-38c9-4c20-bfba-547294b49ddf",
   "metadata": {},
   "outputs": [
    {
     "data": {
      "text/plain": [
       "14400"
      ]
     },
     "execution_count": 2,
     "metadata": {},
     "output_type": "execute_result"
    }
   ],
   "source": [
    "import pandas as pd\n",
    "queries_df=pd.read_csv(\"./information/queries_filter.csv\")\n",
    "queries=queries_df['query'].values\n",
    "len(queries)"
   ]
  },
  {
   "cell_type": "code",
   "execution_count": 3,
   "id": "9d3cdefb-0a1d-4339-80db-0042d2728a8b",
   "metadata": {},
   "outputs": [
    {
     "data": {
      "text/plain": [
       "14400"
      ]
     },
     "execution_count": 3,
     "metadata": {},
     "output_type": "execute_result"
    }
   ],
   "source": [
    "from PGUtils import pgrunner\n",
    "plan_jsons=[]\n",
    "for sql in queries:\n",
    "    plan_jsons.append(pgrunner.getCostPlanJson(sql))\n",
    "len(plan_jsons)"
   ]
  },
  {
   "cell_type": "code",
   "execution_count": 4,
   "id": "02a2d518-8966-43f2-97da-2979855632ea",
   "metadata": {},
   "outputs": [
    {
     "data": {
      "text/plain": [
       "{'Plan': {'Node Type': 'Limit',\n",
       "  'Parallel Aware': False,\n",
       "  'Startup Cost': 69852.91,\n",
       "  'Total Cost': 69852.91,\n",
       "  'Plan Rows': 1,\n",
       "  'Plan Width': 246,\n",
       "  'Plans': [{'Node Type': 'Sort',\n",
       "    'Parent Relationship': 'Outer',\n",
       "    'Parallel Aware': False,\n",
       "    'Startup Cost': 69852.91,\n",
       "    'Total Cost': 69852.91,\n",
       "    'Plan Rows': 1,\n",
       "    'Plan Width': 246,\n",
       "    'Sort Key': ['store.s_store_name',\n",
       "     'store.s_store_id',\n",
       "     \"(sum(CASE WHEN (date_dim.d_day_name = 'Sunday'::bpchar) THEN store_sales.ss_sales_price ELSE NULL::numeric END))\",\n",
       "     \"(sum(CASE WHEN (date_dim.d_day_name = 'Monday'::bpchar) THEN store_sales.ss_sales_price ELSE NULL::numeric END))\",\n",
       "     \"(sum(CASE WHEN (date_dim.d_day_name = 'Tuesday'::bpchar) THEN store_sales.ss_sales_price ELSE NULL::numeric END))\",\n",
       "     \"(sum(CASE WHEN (date_dim.d_day_name = 'Wednesday'::bpchar) THEN store_sales.ss_sales_price ELSE NULL::numeric END))\",\n",
       "     \"(sum(CASE WHEN (date_dim.d_day_name = 'Thursday'::bpchar) THEN store_sales.ss_sales_price ELSE NULL::numeric END))\",\n",
       "     \"(sum(CASE WHEN (date_dim.d_day_name = 'Friday'::bpchar) THEN store_sales.ss_sales_price ELSE NULL::numeric END))\",\n",
       "     \"(sum(CASE WHEN (date_dim.d_day_name = 'Saturday'::bpchar) THEN store_sales.ss_sales_price ELSE NULL::numeric END))\"],\n",
       "    'Plans': [{'Node Type': 'Aggregate',\n",
       "      'Strategy': 'Sorted',\n",
       "      'Partial Mode': 'Finalize',\n",
       "      'Parent Relationship': 'Outer',\n",
       "      'Parallel Aware': False,\n",
       "      'Startup Cost': 69833.23,\n",
       "      'Total Cost': 69852.9,\n",
       "      'Plan Rows': 1,\n",
       "      'Plan Width': 246,\n",
       "      'Group Key': ['store.s_store_name', 'store.s_store_id'],\n",
       "      'Plans': [{'Node Type': 'Gather Merge',\n",
       "        'Parent Relationship': 'Outer',\n",
       "        'Parallel Aware': False,\n",
       "        'Startup Cost': 69833.23,\n",
       "        'Total Cost': 69852.79,\n",
       "        'Plan Rows': 2,\n",
       "        'Plan Width': 246,\n",
       "        'Workers Planned': 2,\n",
       "        'Plans': [{'Node Type': 'Aggregate',\n",
       "          'Strategy': 'Sorted',\n",
       "          'Partial Mode': 'Partial',\n",
       "          'Parent Relationship': 'Outer',\n",
       "          'Parallel Aware': False,\n",
       "          'Startup Cost': 68833.21,\n",
       "          'Total Cost': 68852.53,\n",
       "          'Plan Rows': 1,\n",
       "          'Plan Width': 246,\n",
       "          'Group Key': ['store.s_store_name', 'store.s_store_id'],\n",
       "          'Plans': [{'Node Type': 'Sort',\n",
       "            'Parent Relationship': 'Outer',\n",
       "            'Parallel Aware': False,\n",
       "            'Startup Cost': 68833.21,\n",
       "            'Total Cost': 68834.35,\n",
       "            'Plan Rows': 454,\n",
       "            'Plan Width': 38,\n",
       "            'Sort Key': ['store.s_store_name', 'store.s_store_id'],\n",
       "            'Plans': [{'Node Type': 'Hash Join',\n",
       "              'Parent Relationship': 'Outer',\n",
       "              'Parallel Aware': False,\n",
       "              'Join Type': 'Inner',\n",
       "              'Startup Cost': 1945.96,\n",
       "              'Total Cost': 68813.17,\n",
       "              'Plan Rows': 454,\n",
       "              'Plan Width': 38,\n",
       "              'Inner Unique': True,\n",
       "              'Hash Cond': '(store_sales.ss_store_sk = store.s_store_sk)',\n",
       "              'Plans': [{'Node Type': 'Hash Join',\n",
       "                'Parent Relationship': 'Outer',\n",
       "                'Parallel Aware': True,\n",
       "                'Join Type': 'Inner',\n",
       "                'Startup Cost': 1944.8,\n",
       "                'Total Cost': 68791.97,\n",
       "                'Plan Rows': 5710,\n",
       "                'Plan Width': 20,\n",
       "                'Inner Unique': True,\n",
       "                'Hash Cond': '(store_sales.ss_sold_date_sk = date_dim.d_date_sk)',\n",
       "                'Plans': [{'Node Type': 'Seq Scan',\n",
       "                  'Parent Relationship': 'Outer',\n",
       "                  'Parallel Aware': True,\n",
       "                  'Relation Name': 'store_sales',\n",
       "                  'Alias': 'store_sales',\n",
       "                  'Startup Cost': 0.0,\n",
       "                  'Total Cost': 63696.79,\n",
       "                  'Plan Rows': 1200079,\n",
       "                  'Plan Width': 14},\n",
       "                 {'Node Type': 'Hash',\n",
       "                  'Parent Relationship': 'Inner',\n",
       "                  'Parallel Aware': True,\n",
       "                  'Startup Cost': 1942.12,\n",
       "                  'Total Cost': 1942.12,\n",
       "                  'Plan Rows': 214,\n",
       "                  'Plan Width': 14,\n",
       "                  'Plans': [{'Node Type': 'Seq Scan',\n",
       "                    'Parent Relationship': 'Outer',\n",
       "                    'Parallel Aware': True,\n",
       "                    'Relation Name': 'date_dim',\n",
       "                    'Alias': 'date_dim',\n",
       "                    'Startup Cost': 0.0,\n",
       "                    'Total Cost': 1942.12,\n",
       "                    'Plan Rows': 214,\n",
       "                    'Plan Width': 14,\n",
       "                    'Filter': '(d_year = 2002)'}]}]},\n",
       "               {'Node Type': 'Hash',\n",
       "                'Parent Relationship': 'Inner',\n",
       "                'Parallel Aware': False,\n",
       "                'Startup Cost': 1.15,\n",
       "                'Total Cost': 1.15,\n",
       "                'Plan Rows': 1,\n",
       "                'Plan Width': 26,\n",
       "                'Plans': [{'Node Type': 'Seq Scan',\n",
       "                  'Parent Relationship': 'Outer',\n",
       "                  'Parallel Aware': False,\n",
       "                  'Relation Name': 'store',\n",
       "                  'Alias': 'store',\n",
       "                  'Startup Cost': 0.0,\n",
       "                  'Total Cost': 1.15,\n",
       "                  'Plan Rows': 1,\n",
       "                  'Plan Width': 26,\n",
       "                  'Filter': \"(s_gmt_offset = '-6'::numeric)\"}]}]}]}]}]}]}]}]}}"
      ]
     },
     "execution_count": 4,
     "metadata": {},
     "output_type": "execute_result"
    }
   ],
   "source": [
    "plan_jsons[8]"
   ]
  },
  {
   "cell_type": "code",
   "execution_count": 7,
   "id": "d04360b0-da29-45e0-be1e-105d8e814f0f",
   "metadata": {},
   "outputs": [
    {
     "data": {
      "text/plain": [
       "{'Aggregate', 'Index Scan', 'Merge Join', 'Seq Scan', 'Subquery Scan'}"
      ]
     },
     "execution_count": 7,
     "metadata": {},
     "output_type": "execute_result"
    }
   ],
   "source": [
    "import json\n",
    "from IPython.display import display\n",
    "\n",
    "def find_operators_with_cond(plan_node):\n",
    "    operators_with_cond = set()\n",
    "\n",
    "    if 'Node Type' in plan_node:\n",
    "        result_string = ''.join(map(str, plan_node.keys()))\n",
    "        if 'Cond' in result_string or 'Filter' in result_string:\n",
    "            operators_with_cond.add(plan_node['Node Type'])\n",
    "            # if plan_node['Node Type']=='Aggregate':\n",
    "            #     display(plan_node)\n",
    "\n",
    "    if 'Plans' in plan_node:\n",
    "        # 递归遍历子节点\n",
    "        for sub_plan in plan_node['Plans']:\n",
    "            operators_with_cond.update(find_operators_with_cond(sub_plan))\n",
    "\n",
    "    return operators_with_cond\n",
    "\n",
    "# 示例的 plan_jsons 是包含多个执行计划的列表\n",
    "# 这里使用 plan_jsons[4]['Plan'] 获取其中一个执行计划的根节点\n",
    "operators_with_cond_types = find_operators_with_cond(plan_jsons[4]['Plan'])\n",
    "\n",
    "# 打印结果\n",
    "operators_with_cond_types"
   ]
  },
  {
   "cell_type": "code",
   "execution_count": 8,
   "id": "357a750b-9585-4397-b4f9-54f1aa829563",
   "metadata": {},
   "outputs": [
    {
     "data": {
      "text/plain": [
       "{'Aggregate',\n",
       " 'Bitmap Heap Scan',\n",
       " 'Bitmap Index Scan',\n",
       " 'CTE Scan',\n",
       " 'Hash Join',\n",
       " 'Index Only Scan',\n",
       " 'Index Scan',\n",
       " 'Merge Join',\n",
       " 'Nested Loop',\n",
       " 'Seq Scan',\n",
       " 'Subquery Scan'}"
      ]
     },
     "execution_count": 8,
     "metadata": {},
     "output_type": "execute_result"
    }
   ],
   "source": [
    "cond_filter_operater_type=set()\n",
    "for plan in plan_jsons:\n",
    "    cond_filter_operater_type=cond_filter_operater_type | find_operators_with_cond(plan['Plan'])\n",
    "cond_filter_operater_type"
   ]
  },
  {
   "cell_type": "code",
   "execution_count": null,
   "id": "042c96c9-bbd3-4cd0-81ba-9399959a2614",
   "metadata": {},
   "outputs": [],
   "source": []
  },
  {
   "cell_type": "code",
   "execution_count": null,
   "id": "8bb6aece-4f1b-41af-84b8-15f8e443b2a3",
   "metadata": {},
   "outputs": [],
   "source": []
  },
  {
   "cell_type": "markdown",
   "id": "37630ec9-993e-45c1-bf4c-672ad9febb36",
   "metadata": {},
   "source": [
    "## psqlparse"
   ]
  },
  {
   "cell_type": "code",
   "execution_count": null,
   "id": "5f61d515-20ab-43b1-ab01-649711d7f3c5",
   "metadata": {},
   "outputs": [],
   "source": [
    "import psycopg2\n",
    "from psqlparse import parse_dict\n",
    "\n",
    "# 替换以下信息为你的 PostgreSQL 数据库信息\n",
    "dbname = 'indexselection_tpch___10'\n",
    "user = 'postgres'\n",
    "password = 'password'\n",
    "host = '127.0.0.1'\n",
    "port = '5432'\n",
    "\n",
    "# 尝试连接到 PostgreSQL 数据库\n",
    "try:\n",
    "    connection = psycopg2.connect(\n",
    "        dbname=dbname,\n",
    "        user=user,\n",
    "        password=password,\n",
    "        host=host,\n",
    "        port=port\n",
    "    )\n",
    "\n",
    "    # 创建游标\n",
    "    cursor = connection.cursor()\n",
    "\n",
    "    # 定义 SQL 查询语句\n",
    "    sql_query = \"SELECT * FROM Orders JOIN Customer ON Orders.o_custkey = Customer.c_custkey WHERE o_orderdate BETWEEN '1995-01-01' AND '1995-01-31' AND o_totalprice > 10000;\" \n",
    "\n",
    "    # 解析 SQL 查询语句\n",
    "    parse_result = parse_dict(sql_query)[0][\"SelectStmt\"]\n",
    "    \n",
    "    # 打印解析结果\n",
    "    print(parse_result)\n",
    "    cursor.execute(\"explain (COSTS, FORMAT JSON) \"+sql_query)\n",
    "    rows = cursor.fetchall()\n",
    "    print('rows:',rows)\n",
    "    plan_json = rows[0][0][0]\n",
    "    print(plan_json)\n",
    "\n",
    "    # 提交事务\n",
    "    connection.commit()\n",
    "\n",
    "except Exception as e:\n",
    "    print(f\"Error: {e}\")\n",
    "\n",
    "finally:\n",
    "    # 关闭游标和连接\n",
    "    if cursor:\n",
    "        cursor.close()\n",
    "    if connection:\n",
    "        connection.close()"
   ]
  }
 ],
 "metadata": {
  "kernelspec": {
   "display_name": "Python 3 (ipykernel)",
   "language": "python",
   "name": "python3"
  },
  "language_info": {
   "codemirror_mode": {
    "name": "ipython",
    "version": 3
   },
   "file_extension": ".py",
   "mimetype": "text/x-python",
   "name": "python",
   "nbconvert_exporter": "python",
   "pygments_lexer": "ipython3",
   "version": "3.11.5"
  }
 },
 "nbformat": 4,
 "nbformat_minor": 5
}
