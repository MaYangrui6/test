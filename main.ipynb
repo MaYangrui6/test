{
 "cells": [
  {
   "cell_type": "code",
   "execution_count": 1,
   "id": "92d5f120-4f0c-467f-8d17-c2e1fc8b0b80",
   "metadata": {
    "tags": []
   },
   "outputs": [
    {
     "name": "stderr",
     "output_type": "stream",
     "text": [
      "/tmp/ipykernel_17675/2163532279.py:25: UserWarning: nn.init.xavier_normal is now deprecated in favor of nn.init.xavier_normal_.\n",
      "  init.xavier_normal(param)\n",
      "/tmp/ipykernel_17675/2163532279.py:27: UserWarning: nn.init.uniform is now deprecated in favor of nn.init.uniform_.\n",
      "  init.uniform(param)\n"
     ]
    }
   ],
   "source": [
    "import random\n",
    "import torch\n",
    "import sys\n",
    "from ImportantConfig import Config\n",
    "config = Config()\n",
    "from sql2fea import TreeBuilder,value_extractor\n",
    "from NET import TreeNet\n",
    "from sql2fea import Sql2Vec\n",
    "from TreeLSTM import SPINN\n",
    "\n",
    "sys.path.append('/home/ubuntu/project/HyperQO')\n",
    "\n",
    "sys.stdout = open(config.log_file, \"w\")\n",
    "random.seed(113)\n",
    "with open(config.queries_file) as f:\n",
    "    import json\n",
    "    queries = json.load(f)\n",
    "\n",
    "tree_builder = TreeBuilder()\n",
    "sql2vec = Sql2Vec()\n",
    "value_network = SPINN(head_num=config.head_num, input_size=37, hidden_size=config.hidden_size, table_num = 50,sql_size = 1).to(config.device)\n",
    "for name, param in value_network.named_parameters():\n",
    "    from torch.nn import init\n",
    "    if len(param.shape)==2:\n",
    "        init.xavier_normal(param)\n",
    "    else:\n",
    "        init.uniform(param)\n",
    "\n",
    "\n",
    "treenet_model = TreeNet(tree_builder, value_network)\n",
    "\n",
    "mask = (torch.rand(1,config.head_num,device = config.device)<0.9).long()"
   ]
  },
  {
   "cell_type": "markdown",
   "id": "3beaf5e3-948f-4582-b908-bba501349921",
   "metadata": {
    "tags": []
   },
   "source": [
    "### train_dataloader\n",
    ":sql,plan_json,target_value"
   ]
  },
  {
   "cell_type": "code",
   "execution_count": 2,
   "id": "62ccc193-6ee8-4fe5-87af-60e753bd20e0",
   "metadata": {
    "tags": []
   },
   "outputs": [
    {
     "data": {
      "text/html": [
       "<div>\n",
       "<style scoped>\n",
       "    .dataframe tbody tr th:only-of-type {\n",
       "        vertical-align: middle;\n",
       "    }\n",
       "\n",
       "    .dataframe tbody tr th {\n",
       "        vertical-align: top;\n",
       "    }\n",
       "\n",
       "    .dataframe thead th {\n",
       "        text-align: right;\n",
       "    }\n",
       "</style>\n",
       "<table border=\"1\" class=\"dataframe\">\n",
       "  <thead>\n",
       "    <tr style=\"text-align: right;\">\n",
       "      <th></th>\n",
       "      <th>Unnamed: 0</th>\n",
       "      <th>query</th>\n",
       "      <th>cost_no_index</th>\n",
       "      <th>cost_dta</th>\n",
       "      <th>cost_reduction</th>\n",
       "      <th>cost_reduction_ratio</th>\n",
       "    </tr>\n",
       "  </thead>\n",
       "  <tbody>\n",
       "    <tr>\n",
       "      <th>0</th>\n",
       "      <td>0</td>\n",
       "      <td>select  i_item_id, \\n        avg(ss_quantity) ...</td>\n",
       "      <td>108534.81</td>\n",
       "      <td>69925.31</td>\n",
       "      <td>38609.50</td>\n",
       "      <td>0.355734</td>\n",
       "    </tr>\n",
       "    <tr>\n",
       "      <th>1</th>\n",
       "      <td>1</td>\n",
       "      <td>select sum (ss_quantity)\\n from store_sales, s...</td>\n",
       "      <td>147137.68</td>\n",
       "      <td>86652.87</td>\n",
       "      <td>60484.81</td>\n",
       "      <td>0.411076</td>\n",
       "    </tr>\n",
       "    <tr>\n",
       "      <th>2</th>\n",
       "      <td>2</td>\n",
       "      <td>select  i_item_id\\n       ,i_item_desc \\n     ...</td>\n",
       "      <td>50155.33</td>\n",
       "      <td>3944.83</td>\n",
       "      <td>46210.50</td>\n",
       "      <td>0.921348</td>\n",
       "    </tr>\n",
       "    <tr>\n",
       "      <th>3</th>\n",
       "      <td>3</td>\n",
       "      <td>with ss_items as\\n (select i_item_id item_id\\n...</td>\n",
       "      <td>162566.89</td>\n",
       "      <td>839.12</td>\n",
       "      <td>161727.77</td>\n",
       "      <td>0.994838</td>\n",
       "    </tr>\n",
       "    <tr>\n",
       "      <th>4</th>\n",
       "      <td>4</td>\n",
       "      <td>select  asceding.rnk, i1.i_product_name best_p...</td>\n",
       "      <td>274060.77</td>\n",
       "      <td>48.66</td>\n",
       "      <td>274012.11</td>\n",
       "      <td>0.999822</td>\n",
       "    </tr>\n",
       "  </tbody>\n",
       "</table>\n",
       "</div>"
      ],
      "text/plain": [
       "   Unnamed: 0                                              query  \\\n",
       "0           0  select  i_item_id, \\n        avg(ss_quantity) ...   \n",
       "1           1  select sum (ss_quantity)\\n from store_sales, s...   \n",
       "2           2  select  i_item_id\\n       ,i_item_desc \\n     ...   \n",
       "3           3  with ss_items as\\n (select i_item_id item_id\\n...   \n",
       "4           4  select  asceding.rnk, i1.i_product_name best_p...   \n",
       "\n",
       "   cost_no_index  cost_dta  cost_reduction  cost_reduction_ratio  \n",
       "0      108534.81  69925.31        38609.50              0.355734  \n",
       "1      147137.68  86652.87        60484.81              0.411076  \n",
       "2       50155.33   3944.83        46210.50              0.921348  \n",
       "3      162566.89    839.12       161727.77              0.994838  \n",
       "4      274060.77     48.66       274012.11              0.999822  "
      ]
     },
     "execution_count": 2,
     "metadata": {},
     "output_type": "execute_result"
    }
   ],
   "source": [
    "import pandas as pd\n",
    "train=pd.read_csv('./information/train.csv')\n",
    "train.head()"
   ]
  },
  {
   "cell_type": "code",
   "execution_count": 12,
   "id": "9bc04d97-6c51-43fa-9e02-f14adef0cac2",
   "metadata": {
    "tags": []
   },
   "outputs": [],
   "source": [
    "x=train['query'].values\n",
    "y=train['cost_reduction_ratio'].values"
   ]
  },
  {
   "cell_type": "code",
   "execution_count": 3,
   "id": "dc9abcdb-4c47-4eec-b342-95103f100bf3",
   "metadata": {
    "tags": []
   },
   "outputs": [
    {
     "data": {
      "text/plain": [
       "14400"
      ]
     },
     "execution_count": 3,
     "metadata": {},
     "output_type": "execute_result"
    }
   ],
   "source": [
    "len(list(train['query'].values))"
   ]
  },
  {
   "cell_type": "code",
   "execution_count": 4,
   "id": "14c7b661-b801-466d-9dc9-1a72a7b97db1",
   "metadata": {
    "tags": []
   },
   "outputs": [],
   "source": [
    "from PGUtils import pgrunner\n",
    "plan_json_PG_list=[]\n",
    "for sql in train['query'].values:\n",
    "    plan_json_PG_list.append(pgrunner.getCostPlanJson(sql))\n",
    "# plan_json_PG_list[0]"
   ]
  },
  {
   "cell_type": "code",
   "execution_count": 5,
   "id": "f9534eb8-8b01-4980-8c5a-16f49692b8bc",
   "metadata": {
    "tags": []
   },
   "outputs": [],
   "source": [
    "train_dataloader=list(zip(train['query'].values, plan_json_PG_list, train['cost_reduction_ratio'].values))\n",
    "# train_dataloader[0]"
   ]
  },
  {
   "cell_type": "markdown",
   "id": "253e5991-1d81-4105-a0d0-27ff8666b7da",
   "metadata": {},
   "source": [
    "###  训练模型"
   ]
  },
  {
   "cell_type": "code",
   "execution_count": 6,
   "id": "cc8c5476-ac90-4eb5-a3d6-8d0df0dc4e06",
   "metadata": {
    "tags": []
   },
   "outputs": [
    {
     "data": {
      "text/plain": [
       "1.0958139896392822"
      ]
     },
     "metadata": {},
     "output_type": "display_data"
    },
    {
     "data": {
      "text/plain": [
       "0.8610769510269165"
      ]
     },
     "metadata": {},
     "output_type": "display_data"
    },
    {
     "name": "stderr",
     "output_type": "stream",
     "text": [
      "\n",
      "KeyboardInterrupt\n",
      "\n"
     ]
    }
   ],
   "source": [
    "num_epochs=1\n",
    "# 训练模型\n",
    "for epoch in range(num_epochs):\n",
    "    total_loss = 0.0\n",
    "    for batch_data in train_dataloader[:1000]:\n",
    "        sql_vec,alias = sql2vec.to_vec(batch_data[0])\n",
    "        plan_json, target_value = batch_data[1], batch_data[2]\n",
    "        loss, mean, variance, exp_variance = treenet_model.train(plan_json, sql_vec, target_value, mask, is_train=True)\n",
    "        total_loss +=loss\n",
    "        display(loss)\n",
    "    # 打印或记录训练过程中的损失等信息\n",
    "    avg_loss = total_loss / 1000\n",
    "    display(f\"Epoch {epoch+1}/{num_epochs}, Average Loss: {avg_loss:.4f}\")"
   ]
  },
  {
   "cell_type": "code",
   "execution_count": null,
   "id": "c55033c6-b0ec-4b39-b820-f0948f0fb9d6",
   "metadata": {
    "tags": []
   },
   "outputs": [],
   "source": [
    "with torch.no_grad():\n",
    "    for test_batch_data in train_dataloader[-9:]:\n",
    "        sql_vec,alias = sql2vec.to_vec(test_batch_data[0])\n",
    "        plan_json, target_value = test_batch_data[1], test_batch_data[2]\n",
    "        _, mean, _, exp_variance = treenet_model.train(plan_json, sql_vec, target_value, mask, is_train=False)\n",
    "        display(mean)"
   ]
  },
  {
   "cell_type": "code",
   "execution_count": null,
   "id": "fc6aea18-c2ab-43db-ae81-7a9603e055c5",
   "metadata": {},
   "outputs": [],
   "source": [
    "[x[2] for x in train_dataloader[-9:]]"
   ]
  },
  {
   "cell_type": "code",
   "execution_count": 26,
   "id": "dda8140d-6dcd-4c62-b19b-77172843e23d",
   "metadata": {
    "collapsed": true,
    "jupyter": {
     "outputs_hidden": true
    },
    "tags": []
   },
   "outputs": [
    {
     "data": {
      "text/plain": [
       "[(\"select  i_item_id, \\n        avg(ss_quantity) agg1,\\n        avg(ss_list_price) agg2,\\n        avg(ss_coupon_amt) agg3,\\n        avg(ss_sales_price) agg4 \\n from store_sales, customer_demographics, date_dim, item, promotion\\n where ss_sold_date_sk = d_date_sk and\\n       ss_item_sk = i_item_sk and\\n       ss_cdemo_sk = cd_demo_sk and\\n       ss_promo_sk = p_promo_sk and\\n       cd_gender = 'F' and \\n       cd_marital_status = 'M' and\\n       cd_education_status = '2 yr Degree' and\\n       (p_channel_email = 'N' or p_channel_event = 'N') and\\n       d_year = 1999 \\n group by i_item_id\\n order by i_item_id\\n limit 100;\",\n",
       "  {'Plan': {'Node Type': 'Limit',\n",
       "    'Parallel Aware': False,\n",
       "    'Startup Cost': 72519.65,\n",
       "    'Total Cost': 72534.33,\n",
       "    'Plan Rows': 100,\n",
       "    'Plan Width': 145,\n",
       "    'Plans': [{'Node Type': 'Aggregate',\n",
       "      'Strategy': 'Sorted',\n",
       "      'Partial Mode': 'Finalize',\n",
       "      'Parent Relationship': 'Outer',\n",
       "      'Parallel Aware': False,\n",
       "      'Startup Cost': 72519.65,\n",
       "      'Total Cost': 72545.64,\n",
       "      'Plan Rows': 177,\n",
       "      'Plan Width': 145,\n",
       "      'Group Key': ['item.i_item_id'],\n",
       "      'Plans': [{'Node Type': 'Gather Merge',\n",
       "        'Parent Relationship': 'Outer',\n",
       "        'Parallel Aware': False,\n",
       "        'Startup Cost': 72519.65,\n",
       "        'Total Cost': 72539.14,\n",
       "        'Plan Rows': 148,\n",
       "        'Plan Width': 145,\n",
       "        'Workers Planned': 2,\n",
       "        'Plans': [{'Node Type': 'Aggregate',\n",
       "          'Strategy': 'Sorted',\n",
       "          'Partial Mode': 'Partial',\n",
       "          'Parent Relationship': 'Outer',\n",
       "          'Parallel Aware': False,\n",
       "          'Startup Cost': 71519.62,\n",
       "          'Total Cost': 71522.03,\n",
       "          'Plan Rows': 74,\n",
       "          'Plan Width': 145,\n",
       "          'Group Key': ['item.i_item_id'],\n",
       "          'Plans': [{'Node Type': 'Sort',\n",
       "            'Parent Relationship': 'Outer',\n",
       "            'Parallel Aware': False,\n",
       "            'Startup Cost': 71519.62,\n",
       "            'Total Cost': 71519.81,\n",
       "            'Plan Rows': 74,\n",
       "            'Plan Width': 36,\n",
       "            'Sort Key': ['item.i_item_id'],\n",
       "            'Plans': [{'Node Type': 'Nested Loop',\n",
       "              'Parent Relationship': 'Outer',\n",
       "              'Parallel Aware': False,\n",
       "              'Join Type': 'Inner',\n",
       "              'Startup Cost': 1961.76,\n",
       "              'Total Cost': 71517.33,\n",
       "              'Plan Rows': 74,\n",
       "              'Plan Width': 36,\n",
       "              'Inner Unique': True,\n",
       "              'Plans': [{'Node Type': 'Nested Loop',\n",
       "                'Parent Relationship': 'Outer',\n",
       "                'Parallel Aware': False,\n",
       "                'Join Type': 'Inner',\n",
       "                'Startup Cost': 1961.48,\n",
       "                'Total Cost': 71494.63,\n",
       "                'Plan Rows': 74,\n",
       "                'Plan Width': 23,\n",
       "                'Inner Unique': True,\n",
       "                'Plans': [{'Node Type': 'Hash Join',\n",
       "                  'Parent Relationship': 'Outer',\n",
       "                  'Parallel Aware': False,\n",
       "                  'Join Type': 'Inner',\n",
       "                  'Startup Cost': 1961.05,\n",
       "                  'Total Cost': 68823.41,\n",
       "                  'Plan Rows': 5450,\n",
       "                  'Plan Width': 27,\n",
       "                  'Inner Unique': True,\n",
       "                  'Hash Cond': '(store_sales.ss_promo_sk = promotion.p_promo_sk)',\n",
       "                  'Plans': [{'Node Type': 'Hash Join',\n",
       "                    'Parent Relationship': 'Outer',\n",
       "                    'Parallel Aware': True,\n",
       "                    'Join Type': 'Inner',\n",
       "                    'Startup Cost': 1944.8,\n",
       "                    'Total Cost': 68791.97,\n",
       "                    'Plan Rows': 5710,\n",
       "                    'Plan Width': 31,\n",
       "                    'Inner Unique': True,\n",
       "                    'Hash Cond': '(store_sales.ss_sold_date_sk = date_dim.d_date_sk)',\n",
       "                    'Plans': [{'Node Type': 'Seq Scan',\n",
       "                      'Parent Relationship': 'Outer',\n",
       "                      'Parallel Aware': True,\n",
       "                      'Relation Name': 'store_sales',\n",
       "                      'Alias': 'store_sales',\n",
       "                      'Startup Cost': 0.0,\n",
       "                      'Total Cost': 63696.79,\n",
       "                      'Plan Rows': 1200079,\n",
       "                      'Plan Width': 35},\n",
       "                     {'Node Type': 'Hash',\n",
       "                      'Parent Relationship': 'Inner',\n",
       "                      'Parallel Aware': True,\n",
       "                      'Startup Cost': 1942.12,\n",
       "                      'Total Cost': 1942.12,\n",
       "                      'Plan Rows': 214,\n",
       "                      'Plan Width': 4,\n",
       "                      'Plans': [{'Node Type': 'Seq Scan',\n",
       "                        'Parent Relationship': 'Outer',\n",
       "                        'Parallel Aware': True,\n",
       "                        'Relation Name': 'date_dim',\n",
       "                        'Alias': 'date_dim',\n",
       "                        'Startup Cost': 0.0,\n",
       "                        'Total Cost': 1942.12,\n",
       "                        'Plan Rows': 214,\n",
       "                        'Plan Width': 4,\n",
       "                        'Filter': '(d_year = 1999)'}]}]},\n",
       "                   {'Node Type': 'Hash',\n",
       "                    'Parent Relationship': 'Inner',\n",
       "                    'Parallel Aware': False,\n",
       "                    'Startup Cost': 12.5,\n",
       "                    'Total Cost': 12.5,\n",
       "                    'Plan Rows': 300,\n",
       "                    'Plan Width': 4,\n",
       "                    'Plans': [{'Node Type': 'Seq Scan',\n",
       "                      'Parent Relationship': 'Outer',\n",
       "                      'Parallel Aware': False,\n",
       "                      'Relation Name': 'promotion',\n",
       "                      'Alias': 'promotion',\n",
       "                      'Startup Cost': 0.0,\n",
       "                      'Total Cost': 12.5,\n",
       "                      'Plan Rows': 300,\n",
       "                      'Plan Width': 4,\n",
       "                      'Filter': \"((p_channel_email = 'N'::bpchar) OR (p_channel_event = 'N'::bpchar))\"}]}]},\n",
       "                 {'Node Type': 'Index Scan',\n",
       "                  'Parent Relationship': 'Inner',\n",
       "                  'Parallel Aware': False,\n",
       "                  'Scan Direction': 'Forward',\n",
       "                  'Index Name': 'customer_demographics_pkey',\n",
       "                  'Relation Name': 'customer_demographics',\n",
       "                  'Alias': 'customer_demographics',\n",
       "                  'Startup Cost': 0.43,\n",
       "                  'Total Cost': 0.49,\n",
       "                  'Plan Rows': 1,\n",
       "                  'Plan Width': 4,\n",
       "                  'Index Cond': '(cd_demo_sk = store_sales.ss_cdemo_sk)',\n",
       "                  'Filter': \"((cd_gender = 'F'::bpchar) AND (cd_marital_status = 'M'::bpchar) AND (cd_education_status = '2 yr Degree'::bpchar))\"}]},\n",
       "               {'Node Type': 'Index Scan',\n",
       "                'Parent Relationship': 'Inner',\n",
       "                'Parallel Aware': False,\n",
       "                'Scan Direction': 'Forward',\n",
       "                'Index Name': 'item_pkey',\n",
       "                'Relation Name': 'item',\n",
       "                'Alias': 'item',\n",
       "                'Startup Cost': 0.29,\n",
       "                'Total Cost': 0.31,\n",
       "                'Plan Rows': 1,\n",
       "                'Plan Width': 21,\n",
       "                'Index Cond': '(i_item_sk = store_sales.ss_item_sk)'}]}]}]}]}]}]}},\n",
       "  0.3557337963737164),\n",
       " (\"select sum (ss_quantity)\\n from store_sales, store, customer_demographics, customer_address, date_dim\\n where s_store_sk = ss_store_sk\\n and  ss_sold_date_sk = d_date_sk and d_year = 1998\\n and  \\n (\\n  (\\n   cd_demo_sk = ss_cdemo_sk\\n   and \\n   cd_marital_status = 'W'\\n   and \\n   cd_education_status = 'College'\\n   and \\n   ss_sales_price between 100.00 and 150.00  \\n   )\\n or\\n  (\\n  cd_demo_sk = ss_cdemo_sk\\n   and \\n   cd_marital_status = 'S'\\n   and \\n   cd_education_status = '4 yr Degree'\\n   and \\n   ss_sales_price between 50.00 and 100.00   \\n  )\\n or \\n (\\n  cd_demo_sk = ss_cdemo_sk\\n  and \\n   cd_marital_status = 'D'\\n   and \\n   cd_education_status = 'Advanced Degree'\\n   and \\n   ss_sales_price between 150.00 and 200.00  \\n )\\n )\\n and\\n (\\n  (\\n  ss_addr_sk = ca_address_sk\\n  and\\n  ca_country = 'United States'\\n  and\\n  ca_state in ('FL', 'TX', 'LA')\\n  and ss_net_profit between 0 and 2000  \\n  )\\n or\\n  (ss_addr_sk = ca_address_sk\\n  and\\n  ca_country = 'United States'\\n  and\\n  ca_state in ('PA', 'OK', 'WI')\\n  and ss_net_profit between 150 and 3000 \\n  )\\n or\\n  (ss_addr_sk = ca_address_sk\\n  and\\n  ca_country = 'United States'\\n  and\\n  ca_state in ('IL', 'MO', 'MT')\\n  and ss_net_profit between 50 and 25000 \\n  )\\n )\\n;\",\n",
       "  {'Plan': {'Node Type': 'Aggregate',\n",
       "    'Strategy': 'Plain',\n",
       "    'Partial Mode': 'Finalize',\n",
       "    'Parallel Aware': False,\n",
       "    'Startup Cost': 103380.26,\n",
       "    'Total Cost': 103380.27,\n",
       "    'Plan Rows': 1,\n",
       "    'Plan Width': 8,\n",
       "    'Plans': [{'Node Type': 'Gather',\n",
       "      'Parent Relationship': 'Outer',\n",
       "      'Parallel Aware': False,\n",
       "      'Startup Cost': 103380.04,\n",
       "      'Total Cost': 103380.25,\n",
       "      'Plan Rows': 2,\n",
       "      'Plan Width': 8,\n",
       "      'Workers Planned': 2,\n",
       "      'Single Copy': False,\n",
       "      'Plans': [{'Node Type': 'Aggregate',\n",
       "        'Strategy': 'Plain',\n",
       "        'Partial Mode': 'Partial',\n",
       "        'Parent Relationship': 'Outer',\n",
       "        'Parallel Aware': False,\n",
       "        'Startup Cost': 102380.04,\n",
       "        'Total Cost': 102380.05,\n",
       "        'Plan Rows': 1,\n",
       "        'Plan Width': 8,\n",
       "        'Plans': [{'Node Type': 'Nested Loop',\n",
       "          'Parent Relationship': 'Outer',\n",
       "          'Parallel Aware': False,\n",
       "          'Join Type': 'Inner',\n",
       "          'Startup Cost': 1946.79,\n",
       "          'Total Cost': 102380.04,\n",
       "          'Plan Rows': 2,\n",
       "          'Plan Width': 4,\n",
       "          'Inner Unique': True,\n",
       "          'Plans': [{'Node Type': 'Nested Loop',\n",
       "            'Parent Relationship': 'Outer',\n",
       "            'Parallel Aware': False,\n",
       "            'Join Type': 'Inner',\n",
       "            'Startup Cost': 1946.36,\n",
       "            'Total Cost': 102323.3,\n",
       "            'Plan Rows': 72,\n",
       "            'Plan Width': 14,\n",
       "            'Inner Unique': True,\n",
       "            'Plans': [{'Node Type': 'Hash Join',\n",
       "              'Parent Relationship': 'Outer',\n",
       "              'Parallel Aware': False,\n",
       "              'Join Type': 'Inner',\n",
       "              'Startup Cost': 1946.07,\n",
       "              'Total Cost': 102059.49,\n",
       "              'Plan Rows': 712,\n",
       "              'Plan Width': 24,\n",
       "              'Inner Unique': True,\n",
       "              'Hash Cond': '(store_sales.ss_store_sk = store.s_store_sk)',\n",
       "              'Plans': [{'Node Type': 'Hash Join',\n",
       "                'Parent Relationship': 'Outer',\n",
       "                'Parallel Aware': True,\n",
       "                'Join Type': 'Inner',\n",
       "                'Startup Cost': 1944.8,\n",
       "                'Total Cost': 102055.6,\n",
       "                'Plan Rows': 746,\n",
       "                'Plan Width': 28,\n",
       "                'Inner Unique': True,\n",
       "                'Hash Cond': '(store_sales.ss_sold_date_sk = date_dim.d_date_sk)',\n",
       "                'Plans': [{'Node Type': 'Seq Scan',\n",
       "                  'Parent Relationship': 'Outer',\n",
       "                  'Parallel Aware': True,\n",
       "                  'Relation Name': 'store_sales',\n",
       "                  'Alias': 'store_sales',\n",
       "                  'Startup Cost': 0.0,\n",
       "                  'Total Cost': 99699.15,\n",
       "                  'Plan Rows': 156811,\n",
       "                  'Plan Width': 32,\n",
       "                  'Filter': \"((((ss_sales_price >= 100.00) AND (ss_sales_price <= 150.00)) OR ((ss_sales_price >= 50.00) AND (ss_sales_price <= 100.00)) OR ((ss_sales_price >= 150.00) AND (ss_sales_price <= 200.00))) AND (((ss_net_profit >= '0'::numeric) AND (ss_net_profit <= '2000'::numeric)) OR ((ss_net_profit >= '150'::numeric) AND (ss_net_profit <= '3000'::numeric)) OR ((ss_net_profit >= '50'::numeric) AND (ss_net_profit <= '25000'::numeric))))\"},\n",
       "                 {'Node Type': 'Hash',\n",
       "                  'Parent Relationship': 'Inner',\n",
       "                  'Parallel Aware': True,\n",
       "                  'Startup Cost': 1942.12,\n",
       "                  'Total Cost': 1942.12,\n",
       "                  'Plan Rows': 214,\n",
       "                  'Plan Width': 4,\n",
       "                  'Plans': [{'Node Type': 'Seq Scan',\n",
       "                    'Parent Relationship': 'Outer',\n",
       "                    'Parallel Aware': True,\n",
       "                    'Relation Name': 'date_dim',\n",
       "                    'Alias': 'date_dim',\n",
       "                    'Startup Cost': 0.0,\n",
       "                    'Total Cost': 1942.12,\n",
       "                    'Plan Rows': 214,\n",
       "                    'Plan Width': 4,\n",
       "                    'Filter': '(d_year = 1998)'}]}]},\n",
       "               {'Node Type': 'Hash',\n",
       "                'Parent Relationship': 'Inner',\n",
       "                'Parallel Aware': False,\n",
       "                'Startup Cost': 1.12,\n",
       "                'Total Cost': 1.12,\n",
       "                'Plan Rows': 12,\n",
       "                'Plan Width': 4,\n",
       "                'Plans': [{'Node Type': 'Seq Scan',\n",
       "                  'Parent Relationship': 'Outer',\n",
       "                  'Parallel Aware': False,\n",
       "                  'Relation Name': 'store',\n",
       "                  'Alias': 'store',\n",
       "                  'Startup Cost': 0.0,\n",
       "                  'Total Cost': 1.12,\n",
       "                  'Plan Rows': 12,\n",
       "                  'Plan Width': 4}]}]},\n",
       "             {'Node Type': 'Index Scan',\n",
       "              'Parent Relationship': 'Inner',\n",
       "              'Parallel Aware': False,\n",
       "              'Scan Direction': 'Forward',\n",
       "              'Index Name': 'customer_address_pkey',\n",
       "              'Relation Name': 'customer_address',\n",
       "              'Alias': 'customer_address',\n",
       "              'Startup Cost': 0.29,\n",
       "              'Total Cost': 0.36,\n",
       "              'Plan Rows': 1,\n",
       "              'Plan Width': 7,\n",
       "              'Index Cond': '(ca_address_sk = store_sales.ss_addr_sk)',\n",
       "              'Filter': \"(((ca_country)::text = 'United States'::text) AND ((ca_state = ANY ('{FL,TX,LA}'::bpchar[])) OR (ca_state = ANY ('{PA,OK,WI}'::bpchar[])) OR (ca_state = ANY ('{IL,MO,MT}'::bpchar[]))) AND (((ca_state = ANY ('{FL,TX,LA}'::bpchar[])) AND (store_sales.ss_net_profit >= '0'::numeric) AND (store_sales.ss_net_profit <= '2000'::numeric)) OR ((ca_state = ANY ('{PA,OK,WI}'::bpchar[])) AND (store_sales.ss_net_profit >= '150'::numeric) AND (store_sales.ss_net_profit <= '3000'::numeric)) OR ((ca_state = ANY ('{IL,MO,MT}'::bpchar[])) AND (store_sales.ss_net_profit >= '50'::numeric) AND (store_sales.ss_net_profit <= '25000'::numeric))))\"}]},\n",
       "           {'Node Type': 'Index Scan',\n",
       "            'Parent Relationship': 'Inner',\n",
       "            'Parallel Aware': False,\n",
       "            'Scan Direction': 'Forward',\n",
       "            'Index Name': 'customer_demographics_pkey',\n",
       "            'Relation Name': 'customer_demographics',\n",
       "            'Alias': 'customer_demographics',\n",
       "            'Startup Cost': 0.43,\n",
       "            'Total Cost': 0.78,\n",
       "            'Plan Rows': 1,\n",
       "            'Plan Width': 27,\n",
       "            'Index Cond': '(cd_demo_sk = store_sales.ss_cdemo_sk)',\n",
       "            'Filter': \"((((cd_marital_status = 'W'::bpchar) AND (cd_education_status = 'College'::bpchar)) OR ((cd_marital_status = 'S'::bpchar) AND (cd_education_status = '4 yr Degree'::bpchar)) OR ((cd_marital_status = 'D'::bpchar) AND (cd_education_status = 'Advanced Degree'::bpchar))) AND (((cd_marital_status = 'W'::bpchar) AND (cd_education_status = 'College'::bpchar) AND (store_sales.ss_sales_price >= 100.00) AND (store_sales.ss_sales_price <= 150.00)) OR ((cd_marital_status = 'S'::bpchar) AND (cd_education_status = '4 yr Degree'::bpchar) AND (store_sales.ss_sales_price >= 50.00) AND (store_sales.ss_sales_price <= 100.00)) OR ((cd_marital_status = 'D'::bpchar) AND (cd_education_status = 'Advanced Degree'::bpchar) AND (store_sales.ss_sales_price >= 150.00) AND (store_sales.ss_sales_price <= 200.00))))\"}]}]}]}]},\n",
       "   'JIT': {'Worker Number': -1,\n",
       "    'Functions': 35,\n",
       "    'Options': {'Inlining': False,\n",
       "     'Optimization': False,\n",
       "     'Expressions': True,\n",
       "     'Deforming': True}}},\n",
       "  0.4110762790333516)]"
      ]
     },
     "execution_count": 26,
     "metadata": {},
     "output_type": "execute_result"
    }
   ],
   "source": [
    "train_dataloader[:2]"
   ]
  },
  {
   "cell_type": "code",
   "execution_count": 24,
   "id": "207c4bd2-c275-42d3-8a19-f4b9b5241612",
   "metadata": {
    "tags": []
   },
   "outputs": [
    {
     "name": "stderr",
     "output_type": "stream",
     "text": [
      "GPU available: False, used: False\n",
      "TPU available: False, using: 0 TPU cores\n",
      "IPU available: False, using: 0 IPUs\n",
      "HPU available: False, using: 0 HPUs\n",
      "Missing logger folder: /home/ubuntu/project/HyperQO/lightning_logs\n",
      "\n",
      "  | Name          | Type  | Params\n",
      "----------------------------------------\n",
      "0 | value_network | SPINN | 157 K \n",
      "----------------------------------------\n",
      "157 K     Trainable params\n",
      "0         Non-trainable params\n",
      "157 K     Total params\n",
      "0.630     Total estimated model params size (MB)\n",
      "/home/ubuntu/anaconda3/envs/project/lib/python3.8/site-packages/pytorch_lightning/trainer/trainer.py:726: UserWarning: Detected KeyboardInterrupt, attempting graceful shutdown...\n",
      "  rank_zero_warn(\"Detected KeyboardInterrupt, attempting graceful shutdown...\")\n"
     ]
    },
    {
     "ename": "KeyboardInterrupt",
     "evalue": "",
     "output_type": "error",
     "traceback": [
      "\u001b[0;31m---------------------------------------------------------------------------\u001b[0m",
      "\u001b[0;31mKeyboardInterrupt\u001b[0m                         Traceback (most recent call last)",
      "Cell \u001b[0;32mIn[24], line 35\u001b[0m\n\u001b[1;32m     33\u001b[0m \u001b[38;5;66;03m# 创建 Trainer 实例并训练模型\u001b[39;00m\n\u001b[1;32m     34\u001b[0m trainer \u001b[38;5;241m=\u001b[39m Trainer(max_epochs\u001b[38;5;241m=\u001b[39m\u001b[38;5;241m1\u001b[39m)  \n\u001b[0;32m---> 35\u001b[0m \u001b[43mtrainer\u001b[49m\u001b[38;5;241;43m.\u001b[39;49m\u001b[43mfit\u001b[49m\u001b[43m(\u001b[49m\u001b[43mmodel\u001b[49m\u001b[43m,\u001b[49m\u001b[43m \u001b[49m\u001b[43mtrain_dataloader\u001b[49m\u001b[43m)\u001b[49m\n",
      "File \u001b[0;32m~/anaconda3/envs/project/lib/python3.8/site-packages/pytorch_lightning/trainer/trainer.py:770\u001b[0m, in \u001b[0;36mTrainer.fit\u001b[0;34m(self, model, train_dataloaders, val_dataloaders, datamodule, ckpt_path)\u001b[0m\n\u001b[1;32m    751\u001b[0m \u001b[38;5;250m\u001b[39m\u001b[38;5;124mr\u001b[39m\u001b[38;5;124;03m\"\"\"\u001b[39;00m\n\u001b[1;32m    752\u001b[0m \u001b[38;5;124;03mRuns the full optimization routine.\u001b[39;00m\n\u001b[1;32m    753\u001b[0m \n\u001b[0;32m   (...)\u001b[0m\n\u001b[1;32m    767\u001b[0m \u001b[38;5;124;03m    datamodule: An instance of :class:`~pytorch_lightning.core.datamodule.LightningDataModule`.\u001b[39;00m\n\u001b[1;32m    768\u001b[0m \u001b[38;5;124;03m\"\"\"\u001b[39;00m\n\u001b[1;32m    769\u001b[0m \u001b[38;5;28mself\u001b[39m\u001b[38;5;241m.\u001b[39mstrategy\u001b[38;5;241m.\u001b[39mmodel \u001b[38;5;241m=\u001b[39m model\n\u001b[0;32m--> 770\u001b[0m \u001b[38;5;28;43mself\u001b[39;49m\u001b[38;5;241;43m.\u001b[39;49m\u001b[43m_call_and_handle_interrupt\u001b[49m\u001b[43m(\u001b[49m\n\u001b[1;32m    771\u001b[0m \u001b[43m    \u001b[49m\u001b[38;5;28;43mself\u001b[39;49m\u001b[38;5;241;43m.\u001b[39;49m\u001b[43m_fit_impl\u001b[49m\u001b[43m,\u001b[49m\u001b[43m \u001b[49m\u001b[43mmodel\u001b[49m\u001b[43m,\u001b[49m\u001b[43m \u001b[49m\u001b[43mtrain_dataloaders\u001b[49m\u001b[43m,\u001b[49m\u001b[43m \u001b[49m\u001b[43mval_dataloaders\u001b[49m\u001b[43m,\u001b[49m\u001b[43m \u001b[49m\u001b[43mdatamodule\u001b[49m\u001b[43m,\u001b[49m\u001b[43m \u001b[49m\u001b[43mckpt_path\u001b[49m\n\u001b[1;32m    772\u001b[0m \u001b[43m\u001b[49m\u001b[43m)\u001b[49m\n",
      "File \u001b[0;32m~/anaconda3/envs/project/lib/python3.8/site-packages/pytorch_lightning/trainer/trainer.py:731\u001b[0m, in \u001b[0;36mTrainer._call_and_handle_interrupt\u001b[0;34m(self, trainer_fn, *args, **kwargs)\u001b[0m\n\u001b[1;32m    729\u001b[0m         \u001b[38;5;28mself\u001b[39m\u001b[38;5;241m.\u001b[39mstate\u001b[38;5;241m.\u001b[39mstatus \u001b[38;5;241m=\u001b[39m TrainerStatus\u001b[38;5;241m.\u001b[39mINTERRUPTED\n\u001b[1;32m    730\u001b[0m         \u001b[38;5;28mself\u001b[39m\u001b[38;5;241m.\u001b[39m_call_callback_hooks(\u001b[38;5;124m\"\u001b[39m\u001b[38;5;124mon_keyboard_interrupt\u001b[39m\u001b[38;5;124m\"\u001b[39m)\n\u001b[0;32m--> 731\u001b[0m         \u001b[38;5;28mself\u001b[39m\u001b[38;5;241m.\u001b[39m_call_callback_hooks(\u001b[38;5;124m\"\u001b[39m\u001b[38;5;124mon_exception\u001b[39m\u001b[38;5;124m\"\u001b[39m, exception)\n\u001b[1;32m    732\u001b[0m \u001b[38;5;28;01mexcept\u001b[39;00m \u001b[38;5;167;01mBaseException\u001b[39;00m \u001b[38;5;28;01mas\u001b[39;00m exception:\n\u001b[1;32m    733\u001b[0m     \u001b[38;5;28mself\u001b[39m\u001b[38;5;241m.\u001b[39mstate\u001b[38;5;241m.\u001b[39mstatus \u001b[38;5;241m=\u001b[39m TrainerStatus\u001b[38;5;241m.\u001b[39mINTERRUPTED\n",
      "\u001b[0;31mKeyboardInterrupt\u001b[0m: "
     ]
    }
   ],
   "source": [
    "import torch\n",
    "import torch.nn as nn\n",
    "from torch.utils.data import DataLoader\n",
    "from pytorch_lightning import LightningModule, Trainer\n",
    "\n",
    "\n",
    "\n",
    "# 定义 LightningModule 类\n",
    "class MyLightningModule(LightningModule):\n",
    "    def __init__(self, treenet_model, train_dataloader, mask):\n",
    "        super().__init__()\n",
    "        self.treenet_model = treenet_model\n",
    "        self.train_dataloader = train_dataloader\n",
    "        self.value_network = treenet_model.value_network\n",
    "        self.mask = mask\n",
    "\n",
    "    def forward(self, batch_data):\n",
    "        sql_vec, alias = np.array([1]),set(['kt1'])\n",
    "        plan_json, target_value = batch_data[1], batch_data[2]\n",
    "        loss, mean, variance, exp_variance = self.treenet_model.train(plan_json, sql_vec, target_value, self.mask, is_train=False)\n",
    "        return mean\n",
    "\n",
    "    def training_step(self, batch, batch_idx):\n",
    "        loss, mean, variance, exp_variance = self.treenet_model.train(plan_json, sql_vec, target_value, self.mask, is_train=False)\n",
    "        return loss\n",
    "\n",
    "    def configure_optimizers(self):\n",
    "        return torch.optim.Adam(self.value_network.parameters(), lr=3e-4)\n",
    "\n",
    "# 创建 LightningModule 实例\n",
    "model = MyLightningModule(treenet_model, train_dataloader, mask)\n",
    "\n",
    "# 创建 Trainer 实例并训练模型\n",
    "trainer = Trainer(max_epochs=1)  \n",
    "trainer.fit(model, train_dataloader)"
   ]
  },
  {
   "cell_type": "code",
   "execution_count": null,
   "id": "0dfb2fb0-5d36-4bba-8ff7-52113fb1314d",
   "metadata": {
    "tags": []
   },
   "outputs": [],
   "source": []
  },
  {
   "cell_type": "code",
   "execution_count": 22,
   "id": "32a264b5-4cf7-4dbb-b74f-7c9aafbeecbf",
   "metadata": {
    "tags": []
   },
   "outputs": [
    {
     "data": {
      "text/plain": [
       "[6, 10, 5]"
      ]
     },
     "metadata": {},
     "output_type": "display_data"
    },
    {
     "data": {
      "text/plain": [
       "[2, 3, 8]"
      ]
     },
     "metadata": {},
     "output_type": "display_data"
    },
    {
     "data": {
      "text/plain": [
       "[9, 1, 7]"
      ]
     },
     "metadata": {},
     "output_type": "display_data"
    }
   ],
   "source": [
    "import random\n",
    "\n",
    "data = [1, 2, 3, 4, 5, 6, 7, 8, 9, 10]  # 示例数据\n",
    "batch_size = 3  # 定义批次大小\n",
    "\n",
    "# 首先打乱列表顺序\n",
    "random.shuffle(data)\n",
    "\n",
    "# 然后按照固定大小划分批次\n",
    "num_batches = len(data) // batch_size\n",
    "batches = [data[i * batch_size: (i + 1) * batch_size] for i in range(num_batches)]\n",
    "\n",
    "# 输出随机划分的批次\n",
    "for batch in batches:\n",
    "    display(batch)\n"
   ]
  },
  {
   "cell_type": "code",
   "execution_count": null,
   "id": "36feb303-14f3-4ecb-a091-e6fdcd0048f7",
   "metadata": {},
   "outputs": [],
   "source": []
  }
 ],
 "metadata": {
  "kernelspec": {
   "display_name": "project",
   "language": "python",
   "name": "project"
  },
  "language_info": {
   "codemirror_mode": {
    "name": "ipython",
    "version": 3
   },
   "file_extension": ".py",
   "mimetype": "text/x-python",
   "name": "python",
   "nbconvert_exporter": "python",
   "pygments_lexer": "ipython3",
   "version": "3.8.18"
  }
 },
 "nbformat": 4,
 "nbformat_minor": 5
}
