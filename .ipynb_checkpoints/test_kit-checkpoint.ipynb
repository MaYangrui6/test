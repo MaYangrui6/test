{
 "cells": [
  {
   "cell_type": "code",
   "execution_count": 8,
   "metadata": {},
   "outputs": [],
   "source": [
    "import random\n",
    "import sys\n",
    "from ImportantConfig import Config\n",
    "config = Config()\n",
    "from sql2fea import TreeBuilder,value_extractor\n",
    "from NET import TreeNet\n",
    "from sql2fea import Sql2Vec\n",
    "from TreeLSTM import SPINN\n",
    "import pandas as pd\n",
    "import json\n",
    "from IPython.display import display\n",
    "\n",
    "sys.stdout = open(config.log_file, \"w\")\n",
    "random.seed(113)\n",
    "with open(config.queries_file) as f:\n",
    "    import json\n",
    "    queries = json.load(f)\n",
    "\n",
    "tree_builder = TreeBuilder()\n",
    "sql2vec = Sql2Vec()"
   ]
  },
  {
   "cell_type": "code",
   "execution_count": 9,
   "metadata": {},
   "outputs": [
    {
     "data": {
      "text/html": [
       "<div>\n",
       "<style scoped>\n",
       "    .dataframe tbody tr th:only-of-type {\n",
       "        vertical-align: middle;\n",
       "    }\n",
       "\n",
       "    .dataframe tbody tr th {\n",
       "        vertical-align: top;\n",
       "    }\n",
       "\n",
       "    .dataframe thead th {\n",
       "        text-align: right;\n",
       "    }\n",
       "</style>\n",
       "<table border=\"1\" class=\"dataframe\">\n",
       "  <thead>\n",
       "    <tr style=\"text-align: right;\">\n",
       "      <th></th>\n",
       "      <th>Unnamed: 0</th>\n",
       "      <th>query_id</th>\n",
       "      <th>query</th>\n",
       "    </tr>\n",
       "  </thead>\n",
       "  <tbody>\n",
       "    <tr>\n",
       "      <th>0</th>\n",
       "      <td>1</td>\n",
       "      <td>2</td>\n",
       "      <td>select  i_item_id, \\n        avg(ss_quantity) ...</td>\n",
       "    </tr>\n",
       "    <tr>\n",
       "      <th>1</th>\n",
       "      <td>2</td>\n",
       "      <td>3</td>\n",
       "      <td>select sum (ss_quantity)\\n from store_sales, s...</td>\n",
       "    </tr>\n",
       "    <tr>\n",
       "      <th>2</th>\n",
       "      <td>3</td>\n",
       "      <td>4</td>\n",
       "      <td>select  i_item_id\\n       ,i_item_desc \\n     ...</td>\n",
       "    </tr>\n",
       "    <tr>\n",
       "      <th>3</th>\n",
       "      <td>4</td>\n",
       "      <td>5</td>\n",
       "      <td>with ss_items as\\n (select i_item_id item_id\\n...</td>\n",
       "    </tr>\n",
       "    <tr>\n",
       "      <th>4</th>\n",
       "      <td>5</td>\n",
       "      <td>6</td>\n",
       "      <td>select  asceding.rnk, i1.i_product_name best_p...</td>\n",
       "    </tr>\n",
       "  </tbody>\n",
       "</table>\n",
       "</div>"
      ],
      "text/plain": [
       "   Unnamed: 0  query_id                                              query\n",
       "0           1         2  select  i_item_id, \\n        avg(ss_quantity) ...\n",
       "1           2         3  select sum (ss_quantity)\\n from store_sales, s...\n",
       "2           3         4  select  i_item_id\\n       ,i_item_desc \\n     ...\n",
       "3           4         5  with ss_items as\\n (select i_item_id item_id\\n...\n",
       "4           5         6  select  asceding.rnk, i1.i_product_name best_p..."
      ]
     },
     "execution_count": 9,
     "metadata": {},
     "output_type": "execute_result"
    }
   ],
   "source": [
    "df=pd.read_csv('./information/queries_filter.csv')\n",
    "df.head()"
   ]
  },
  {
   "cell_type": "code",
   "execution_count": 10,
   "metadata": {},
   "outputs": [
    {
     "data": {
      "text/plain": [
       "\"select  i_item_id, \\n        avg(ss_quantity) agg1,\\n        avg(ss_list_price) agg2,\\n        avg(ss_coupon_amt) agg3,\\n        avg(ss_sales_price) agg4 \\n from store_sales, customer_demographics, date_dim, item, promotion\\n where ss_sold_date_sk = d_date_sk and\\n       ss_item_sk = i_item_sk and\\n       ss_cdemo_sk = cd_demo_sk and\\n       ss_promo_sk = p_promo_sk and\\n       cd_gender = 'F' and \\n       cd_marital_status = 'M' and\\n       cd_education_status = '2 yr Degree' and\\n       (p_channel_email = 'N' or p_channel_event = 'N') and\\n       d_year = 1999 \\n group by i_item_id\\n order by i_item_id\\n limit 100;\""
      ]
     },
     "execution_count": 10,
     "metadata": {},
     "output_type": "execute_result"
    }
   ],
   "source": [
    "queries=df['query'].values\n",
    "queries[0]"
   ]
  },
  {
   "cell_type": "code",
   "execution_count": 11,
   "metadata": {},
   "outputs": [
    {
     "data": {
      "text/plain": [
       "14400"
      ]
     },
     "execution_count": 11,
     "metadata": {},
     "output_type": "execute_result"
    }
   ],
   "source": [
    "len(queries)"
   ]
  },
  {
   "cell_type": "code",
   "execution_count": 12,
   "metadata": {},
   "outputs": [
    {
     "data": {
      "text/plain": [
       "10"
      ]
     },
     "execution_count": 12,
     "metadata": {},
     "output_type": "execute_result"
    }
   ],
   "source": [
    "from PGUtils import pgrunner\n",
    "plan_jsons=[]\n",
    "for sql in queries[:10]:\n",
    "    plan_jsons.append(pgrunner.getCostPlanJson(sql))\n",
    "len(plan_jsons)"
   ]
  },
  {
   "cell_type": "code",
   "execution_count": 13,
   "metadata": {},
   "outputs": [],
   "source": [
    "# test_plan=pgrunner.getCostPlanJson('SELECT d_year FROM date_dim where d_year>2000 order by d_year limit 5;')\n",
    "# test_plan"
   ]
  },
  {
   "cell_type": "code",
   "execution_count": 14,
   "metadata": {},
   "outputs": [
    {
     "data": {
      "text/plain": [
       "(tensor([[  1.0000,   0.0000,   0.0000,   0.0000,   0.0000,   0.0000,   0.0000,\n",
       "            0.0000,   0.0000,   0.0000,   0.0000,   0.0000,   0.0000,   0.0000,\n",
       "            0.0000,   0.0000,   0.0000,   0.0000,   0.0000,   0.0000,   0.0000,\n",
       "            0.0000,   0.0000,   0.0000,   1.0000,   0.0000,   0.0000,   0.0000,\n",
       "            0.0000,   0.0000,   0.0000,   0.9200, 100.0000,   2.0200,   0.0000,\n",
       "            0.0000,   1.0000]]),\n",
       " (tensor([[0.0000e+00, 0.0000e+00, 0.0000e+00, 1.0000e+00, 0.0000e+00, 0.0000e+00,\n",
       "           0.0000e+00, 0.0000e+00, 0.0000e+00, 0.0000e+00, 0.0000e+00, 0.0000e+00,\n",
       "           0.0000e+00, 0.0000e+00, 0.0000e+00, 0.0000e+00, 0.0000e+00, 0.0000e+00,\n",
       "           0.0000e+00, 0.0000e+00, 0.0000e+00, 0.0000e+00, 0.0000e+00, 0.0000e+00,\n",
       "           0.0000e+00, 0.0000e+00, 0.0000e+00, 1.0000e+00, 0.0000e+00, 0.0000e+00,\n",
       "           0.0000e+00, 9.2000e-01, 2.0200e+02, 1.0000e+00, 1.0000e+00, 2.8333e-03,\n",
       "           5.5000e-03]]),\n",
       "  (tensor([[  0.0000,   0.0000,   0.0000,   0.0000,   0.0000,   0.0000,   0.0000,\n",
       "              0.0000,   0.0000,   0.0000,   0.0000,   1.0000,   0.0000,   0.0000,\n",
       "              0.0000,   0.0000,   0.0000,   0.0000,   0.0000,   0.0000,   0.0000,\n",
       "              0.0000,   0.0000,   0.0000,   0.0000,   1.0000,   0.0000,   0.0000,\n",
       "              0.0000,   0.0000,   0.0000,   0.9200, 202.0000,   1.0000,   2.0000,\n",
       "              0.0000,   1.0000]]),\n",
       "   (tensor([[0.0000e+00, 0.0000e+00, 0.0000e+00, 1.0000e+00, 0.0000e+00, 0.0000e+00,\n",
       "             0.0000e+00, 0.0000e+00, 0.0000e+00, 0.0000e+00, 0.0000e+00, 0.0000e+00,\n",
       "             0.0000e+00, 0.0000e+00, 0.0000e+00, 0.0000e+00, 0.0000e+00, 0.0000e+00,\n",
       "             0.0000e+00, 0.0000e+00, 0.0000e+00, 0.0000e+00, 0.0000e+00, 0.0000e+00,\n",
       "             0.0000e+00, 0.0000e+00, 0.0000e+00, 1.0000e+00, 0.0000e+00, 0.0000e+00,\n",
       "             0.0000e+00, 9.2000e-01, 2.0200e+02, 1.0000e+00, 3.0000e+00, 2.3889e-03,\n",
       "             5.5000e-03]]),\n",
       "    (tensor([[0.0000e+00, 1.0000e+00, 0.0000e+00, 0.0000e+00, 0.0000e+00, 0.0000e+00,\n",
       "              0.0000e+00, 0.0000e+00, 0.0000e+00, 0.0000e+00, 0.0000e+00, 0.0000e+00,\n",
       "              0.0000e+00, 0.0000e+00, 0.0000e+00, 0.0000e+00, 0.0000e+00, 0.0000e+00,\n",
       "              0.0000e+00, 0.0000e+00, 0.0000e+00, 0.0000e+00, 0.0000e+00, 0.0000e+00,\n",
       "              0.0000e+00, 1.0000e+00, 0.0000e+00, 0.0000e+00, 0.0000e+00, 0.0000e+00,\n",
       "              0.0000e+00, 9.2000e-01, 2.0200e+02, 8.3168e-01, 4.0000e+00, 2.8333e-03,\n",
       "              5.5000e-03]]),\n",
       "     (tensor([[  0.0000,   0.0000,   1.0000,   0.0000,   0.0000,   0.0000,   0.0000,\n",
       "                 0.0000,   0.0000,   0.0000,   0.0000,   0.0000,   0.0000,   0.0000,\n",
       "                 0.0000,   0.0000,   0.0000,   0.0000,   0.0000,   0.0000,   0.0000,\n",
       "                 0.0000,   0.0000,   0.0000,   0.0000,   0.0000,   1.0000,   0.0000,\n",
       "                 0.0000,   0.0000,   0.0000,   0.9200, 168.0000,   0.5000,   5.0000,\n",
       "                 0.0000,   1.0000]]),\n",
       "      (tensor([[0.0000e+00, 1.0000e+00, 0.0000e+00, 0.0000e+00, 0.0000e+00, 0.0000e+00,\n",
       "                0.0000e+00, 0.0000e+00, 0.0000e+00, 0.0000e+00, 0.0000e+00, 0.0000e+00,\n",
       "                0.0000e+00, 0.0000e+00, 0.0000e+00, 0.0000e+00, 0.0000e+00, 0.0000e+00,\n",
       "                0.0000e+00, 0.0000e+00, 0.0000e+00, 0.0000e+00, 0.0000e+00, 0.0000e+00,\n",
       "                0.0000e+00, 1.0000e+00, 0.0000e+00, 0.0000e+00, 0.0000e+00, 0.0000e+00,\n",
       "                0.0000e+00, 9.2000e-01, 8.4000e+01, 1.0000e+00, 6.0000e+00, 2.8333e-03,\n",
       "                5.5000e-03]]),\n",
       "       (tensor([[0.0000e+00, 0.0000e+00, 0.0000e+00, 1.0000e+00, 0.0000e+00, 0.0000e+00,\n",
       "                 0.0000e+00, 0.0000e+00, 0.0000e+00, 0.0000e+00, 0.0000e+00, 0.0000e+00,\n",
       "                 0.0000e+00, 0.0000e+00, 0.0000e+00, 0.0000e+00, 0.0000e+00, 0.0000e+00,\n",
       "                 0.0000e+00, 0.0000e+00, 0.0000e+00, 0.0000e+00, 0.0000e+00, 0.0000e+00,\n",
       "                 0.0000e+00, 0.0000e+00, 0.0000e+00, 1.0000e+00, 0.0000e+00, 0.0000e+00,\n",
       "                 0.0000e+00, 9.2000e-01, 8.4000e+01, 1.0000e+00, 7.0000e+00, 2.8333e-03,\n",
       "                 5.5000e-03]]),\n",
       "        (tensor([[ 0.0000,  0.0000,  0.0000,  0.0000,  0.0000,  0.0000,  1.0000,  0.0000,\n",
       "                   0.0000,  0.0000,  0.0000,  0.0000,  0.0000,  0.0000,  0.0000,  0.0000,\n",
       "                   0.0000,  0.0000,  0.0000,  0.0000,  0.0000,  0.0000,  0.0000,  0.0000,\n",
       "                   0.0000,  0.0000,  1.0000,  0.0000,  0.0000,  0.0000,  0.0000,  0.9200,\n",
       "                  84.0000,  3.3214,  8.0000,  0.0000,  1.0000]]),\n",
       "         (tensor([[ 0.0000e+00,  0.0000e+00,  0.0000e+00,  0.0000e+00,  0.0000e+00,\n",
       "                    1.0000e+00,  0.0000e+00,  0.0000e+00,  0.0000e+00,  0.0000e+00,\n",
       "                    0.0000e+00,  0.0000e+00,  0.0000e+00,  0.0000e+00,  0.0000e+00,\n",
       "                    0.0000e+00,  0.0000e+00,  0.0000e+00,  0.0000e+00,  0.0000e+00,\n",
       "                    0.0000e+00,  0.0000e+00,  0.0000e+00,  0.0000e+00,  0.0000e+00,\n",
       "                    0.0000e+00,  1.0000e+00,  0.0000e+00,  0.0000e+00,  0.0000e+00,\n",
       "                    0.0000e+00,  9.1500e-01,  2.7800e+02,  2.1607e+03,  9.0000e+00,\n",
       "                    0.0000e+00, -1.3689e-05]]),\n",
       "          (tensor([[0.0000e+00, 0.0000e+00, 0.0000e+00, 0.0000e+00, 0.0000e+00, 0.0000e+00,\n",
       "                    0.0000e+00, 0.0000e+00, 1.0000e+00, 0.0000e+00, 0.0000e+00, 0.0000e+00,\n",
       "                    0.0000e+00, 0.0000e+00, 0.0000e+00, 0.0000e+00, 0.0000e+00, 0.0000e+00,\n",
       "                    0.0000e+00, 0.0000e+00, 0.0000e+00, 0.0000e+00, 0.0000e+00, 0.0000e+00,\n",
       "                    0.0000e+00, 0.0000e+00, 0.0000e+00, 1.0000e+00, 0.0000e+00, 0.0000e+00,\n",
       "                    0.0000e+00, 9.1000e-01, 6.0064e+05, 1.0000e+00, 1.0000e+01, 0.0000e+00,\n",
       "                    1.0000e+00]]),\n",
       "           tensor([-1])),\n",
       "          (tensor([[ 0.0000,  0.0000,  0.0000,  0.0000,  0.0000,  0.0000,  0.0000,  1.0000,\n",
       "                     0.0000,  0.0000,  0.0000,  0.0000,  0.0000,  0.0000,  0.0000,  0.0000,\n",
       "                     0.0000,  0.0000,  0.0000,  0.0000,  0.0000,  0.0000,  0.0000,  0.0000,\n",
       "                     0.0000,  1.0000,  0.0000,  0.0000,  0.0000,  0.0000,  0.0000,  0.6500,\n",
       "                    20.0000,  1.0000, 10.0000,  0.0000,  1.0000]]),\n",
       "           (tensor([[ 0.0000e+00,  0.0000e+00,  0.0000e+00,  0.0000e+00,  0.0000e+00,\n",
       "                      0.0000e+00,  0.0000e+00,  0.0000e+00,  1.0000e+00,  0.0000e+00,\n",
       "                      0.0000e+00,  0.0000e+00,  0.0000e+00,  0.0000e+00,  0.0000e+00,\n",
       "                      0.0000e+00,  0.0000e+00,  0.0000e+00,  0.0000e+00,  0.0000e+00,\n",
       "                      0.0000e+00,  0.0000e+00,  0.0000e+00,  0.0000e+00,  0.0000e+00,\n",
       "                      0.0000e+00,  0.0000e+00,  1.0000e+00,  0.0000e+00,  0.0000e+00,\n",
       "                      0.0000e+00,  6.5000e-01,  2.0000e+01,  1.0000e+00,  1.1000e+01,\n",
       "                      0.0000e+00, -1.3689e-05]]),\n",
       "            tensor([-1])))),\n",
       "         (tensor([[0.0000e+00, 0.0000e+00, 0.0000e+00, 0.0000e+00, 0.0000e+00, 0.0000e+00,\n",
       "                   0.0000e+00, 0.0000e+00, 0.0000e+00, 1.0000e+00, 0.0000e+00, 0.0000e+00,\n",
       "                   0.0000e+00, 0.0000e+00, 0.0000e+00, 0.0000e+00, 0.0000e+00, 0.0000e+00,\n",
       "                   0.0000e+00, 0.0000e+00, 0.0000e+00, 0.0000e+00, 0.0000e+00, 0.0000e+00,\n",
       "                   0.0000e+00, 0.0000e+00, 0.0000e+00, 1.0000e+00, 0.0000e+00, 0.0000e+00,\n",
       "                   0.0000e+00, 7.0000e-02, 1.0000e+00, 1.0000e+00, 9.0000e+00, 2.3889e-03,\n",
       "                   5.5556e-04]]),\n",
       "          tensor([-1])))))))))))"
      ]
     },
     "execution_count": 14,
     "metadata": {},
     "output_type": "execute_result"
    }
   ],
   "source": [
    "tree_builder.plan_to_feature_tree(plan_jsons[2],0)"
   ]
  },
  {
   "cell_type": "code",
   "execution_count": 15,
   "metadata": {},
   "outputs": [
    {
     "data": {
      "text/plain": [
       "{'Plan': {'Node Type': 'Limit',\n",
       "  'Parallel Aware': False,\n",
       "  'Startup Cost': 48174.89,\n",
       "  'Total Cost': 48175.14,\n",
       "  'Plan Rows': 100,\n",
       "  'Plan Width': 291,\n",
       "  'Plans': [{'Node Type': 'Sort',\n",
       "    'Parent Relationship': 'Outer',\n",
       "    'Parallel Aware': False,\n",
       "    'Startup Cost': 48174.89,\n",
       "    'Total Cost': 48175.4,\n",
       "    'Plan Rows': 202,\n",
       "    'Plan Width': 291,\n",
       "    'Sort Key': ['item.i_category',\n",
       "     'item.i_class',\n",
       "     'item.i_item_id',\n",
       "     'item.i_item_desc',\n",
       "     \"((((sum(catalog_sales.cs_ext_sales_price)) * '100'::numeric) / sum((sum(catalog_sales.cs_ext_sales_price))) OVER (?)))\"],\n",
       "    'Plans': [{'Node Type': 'WindowAgg',\n",
       "      'Parent Relationship': 'Outer',\n",
       "      'Parallel Aware': False,\n",
       "      'Startup Cost': 48162.63,\n",
       "      'Total Cost': 48167.17,\n",
       "      'Plan Rows': 202,\n",
       "      'Plan Width': 291,\n",
       "      'Plans': [{'Node Type': 'Sort',\n",
       "        'Parent Relationship': 'Outer',\n",
       "        'Parallel Aware': False,\n",
       "        'Startup Cost': 48162.63,\n",
       "        'Total Cost': 48163.13,\n",
       "        'Plan Rows': 202,\n",
       "        'Plan Width': 259,\n",
       "        'Sort Key': ['item.i_class'],\n",
       "        'Plans': [{'Node Type': 'Aggregate',\n",
       "          'Strategy': 'Sorted',\n",
       "          'Partial Mode': 'Finalize',\n",
       "          'Parent Relationship': 'Outer',\n",
       "          'Parallel Aware': False,\n",
       "          'Startup Cost': 48127.51,\n",
       "          'Total Cost': 48154.89,\n",
       "          'Plan Rows': 202,\n",
       "          'Plan Width': 259,\n",
       "          'Group Key': ['item.i_item_id',\n",
       "           'item.i_item_desc',\n",
       "           'item.i_category',\n",
       "           'item.i_class',\n",
       "           'item.i_current_price'],\n",
       "          'Plans': [{'Node Type': 'Gather Merge',\n",
       "            'Parent Relationship': 'Outer',\n",
       "            'Parallel Aware': False,\n",
       "            'Startup Cost': 48127.51,\n",
       "            'Total Cost': 48149.43,\n",
       "            'Plan Rows': 168,\n",
       "            'Plan Width': 259,\n",
       "            'Workers Planned': 2,\n",
       "            'Plans': [{'Node Type': 'Aggregate',\n",
       "              'Strategy': 'Sorted',\n",
       "              'Partial Mode': 'Partial',\n",
       "              'Parent Relationship': 'Outer',\n",
       "              'Parallel Aware': False,\n",
       "              'Startup Cost': 47127.49,\n",
       "              'Total Cost': 47130.01,\n",
       "              'Plan Rows': 84,\n",
       "              'Plan Width': 259,\n",
       "              'Group Key': ['item.i_item_id',\n",
       "               'item.i_item_desc',\n",
       "               'item.i_category',\n",
       "               'item.i_class',\n",
       "               'item.i_current_price'],\n",
       "              'Plans': [{'Node Type': 'Sort',\n",
       "                'Parent Relationship': 'Outer',\n",
       "                'Parallel Aware': False,\n",
       "                'Startup Cost': 47127.49,\n",
       "                'Total Cost': 47127.7,\n",
       "                'Plan Rows': 84,\n",
       "                'Plan Width': 233,\n",
       "                'Sort Key': ['item.i_item_id',\n",
       "                 'item.i_item_desc',\n",
       "                 'item.i_category',\n",
       "                 'item.i_class',\n",
       "                 'item.i_current_price'],\n",
       "                'Plans': [{'Node Type': 'Nested Loop',\n",
       "                  'Parent Relationship': 'Outer',\n",
       "                  'Parallel Aware': False,\n",
       "                  'Join Type': 'Inner',\n",
       "                  'Startup Cost': 2050.09,\n",
       "                  'Total Cost': 47124.81,\n",
       "                  'Plan Rows': 84,\n",
       "                  'Plan Width': 233,\n",
       "                  'Inner Unique': True,\n",
       "                  'Plans': [{'Node Type': 'Hash Join',\n",
       "                    'Parent Relationship': 'Outer',\n",
       "                    'Parallel Aware': True,\n",
       "                    'Join Type': 'Inner',\n",
       "                    'Startup Cost': 2049.8,\n",
       "                    'Total Cost': 47037.98,\n",
       "                    'Plan Rows': 278,\n",
       "                    'Plan Width': 10,\n",
       "                    'Inner Unique': True,\n",
       "                    'Hash Cond': '(catalog_sales.cs_sold_date_sk = date_dim.d_date_sk)',\n",
       "                    'Plans': [{'Node Type': 'Seq Scan',\n",
       "                      'Parent Relationship': 'Outer',\n",
       "                      'Parallel Aware': True,\n",
       "                      'Relation Name': 'catalog_sales',\n",
       "                      'Alias': 'catalog_sales',\n",
       "                      'Startup Cost': 0.0,\n",
       "                      'Total Cost': 43411.41,\n",
       "                      'Plan Rows': 600641,\n",
       "                      'Plan Width': 14},\n",
       "                     {'Node Type': 'Hash',\n",
       "                      'Parent Relationship': 'Inner',\n",
       "                      'Parallel Aware': True,\n",
       "                      'Startup Cost': 2049.55,\n",
       "                      'Total Cost': 2049.55,\n",
       "                      'Plan Rows': 20,\n",
       "                      'Plan Width': 4,\n",
       "                      'Plans': [{'Node Type': 'Seq Scan',\n",
       "                        'Parent Relationship': 'Outer',\n",
       "                        'Parallel Aware': True,\n",
       "                        'Relation Name': 'date_dim',\n",
       "                        'Alias': 'date_dim',\n",
       "                        'Startup Cost': 0.0,\n",
       "                        'Total Cost': 2049.55,\n",
       "                        'Plan Rows': 20,\n",
       "                        'Plan Width': 4,\n",
       "                        'Filter': \"((d_date >= '2002-02-12'::date) AND (d_date <= '2002-03-14 00:00:00'::timestamp without time zone))\"}]}]},\n",
       "                   {'Node Type': 'Index Scan',\n",
       "                    'Parent Relationship': 'Inner',\n",
       "                    'Parallel Aware': False,\n",
       "                    'Scan Direction': 'Forward',\n",
       "                    'Index Name': 'item_pkey',\n",
       "                    'Relation Name': 'item',\n",
       "                    'Alias': 'item',\n",
       "                    'Startup Cost': 0.29,\n",
       "                    'Total Cost': 0.31,\n",
       "                    'Plan Rows': 1,\n",
       "                    'Plan Width': 231,\n",
       "                    'Index Cond': '(i_item_sk = catalog_sales.cs_item_sk)',\n",
       "                    'Filter': \"(i_category = ANY ('{Music,Men,Sports}'::bpchar[]))\"}]}]}]}]}]}]}]}]}]}}"
      ]
     },
     "execution_count": 15,
     "metadata": {},
     "output_type": "execute_result"
    }
   ],
   "source": [
    "plan_jsons[2]"
   ]
  },
  {
   "cell_type": "markdown",
   "metadata": {},
   "source": [
    "## get_relative_col"
   ]
  },
  {
   "cell_type": "code",
   "execution_count": 33,
   "metadata": {
    "tags": []
   },
   "outputs": [
    {
     "data": {
      "text/html": [
       "<div>\n",
       "<style scoped>\n",
       "    .dataframe tbody tr th:only-of-type {\n",
       "        vertical-align: middle;\n",
       "    }\n",
       "\n",
       "    .dataframe tbody tr th {\n",
       "        vertical-align: top;\n",
       "    }\n",
       "\n",
       "    .dataframe thead th {\n",
       "        text-align: right;\n",
       "    }\n",
       "</style>\n",
       "<table border=\"1\" class=\"dataframe\">\n",
       "  <thead>\n",
       "    <tr style=\"text-align: right;\">\n",
       "      <th></th>\n",
       "      <th>Schema</th>\n",
       "      <th>Table</th>\n",
       "      <th>Column</th>\n",
       "      <th>Null Fraction</th>\n",
       "      <th>Distinct Values</th>\n",
       "      <th>Correlation</th>\n",
       "    </tr>\n",
       "  </thead>\n",
       "  <tbody>\n",
       "    <tr>\n",
       "      <th>70</th>\n",
       "      <td>public</td>\n",
       "      <td>customer</td>\n",
       "      <td>c_birth_country</td>\n",
       "      <td>0.035633</td>\n",
       "      <td>211.0000</td>\n",
       "      <td>-0.000724</td>\n",
       "    </tr>\n",
       "    <tr>\n",
       "      <th>71</th>\n",
       "      <td>public</td>\n",
       "      <td>customer</td>\n",
       "      <td>c_birth_day</td>\n",
       "      <td>0.034067</td>\n",
       "      <td>31.0000</td>\n",
       "      <td>0.032090</td>\n",
       "    </tr>\n",
       "    <tr>\n",
       "      <th>72</th>\n",
       "      <td>public</td>\n",
       "      <td>customer</td>\n",
       "      <td>c_birth_month</td>\n",
       "      <td>0.034133</td>\n",
       "      <td>12.0000</td>\n",
       "      <td>0.084593</td>\n",
       "    </tr>\n",
       "    <tr>\n",
       "      <th>73</th>\n",
       "      <td>public</td>\n",
       "      <td>customer</td>\n",
       "      <td>c_birth_year</td>\n",
       "      <td>0.034000</td>\n",
       "      <td>69.0000</td>\n",
       "      <td>0.013633</td>\n",
       "    </tr>\n",
       "    <tr>\n",
       "      <th>74</th>\n",
       "      <td>public</td>\n",
       "      <td>customer</td>\n",
       "      <td>c_current_addr_sk</td>\n",
       "      <td>0.000000</td>\n",
       "      <td>-0.3655</td>\n",
       "      <td>0.000824</td>\n",
       "    </tr>\n",
       "  </tbody>\n",
       "</table>\n",
       "</div>"
      ],
      "text/plain": [
       "    Schema     Table             Column  Null Fraction  Distinct Values  \\\n",
       "70  public  customer    c_birth_country       0.035633         211.0000   \n",
       "71  public  customer        c_birth_day       0.034067          31.0000   \n",
       "72  public  customer      c_birth_month       0.034133          12.0000   \n",
       "73  public  customer       c_birth_year       0.034000          69.0000   \n",
       "74  public  customer  c_current_addr_sk       0.000000          -0.3655   \n",
       "\n",
       "    Correlation  \n",
       "70    -0.000724  \n",
       "71     0.032090  \n",
       "72     0.084593  \n",
       "73     0.013633  \n",
       "74     0.000824  "
      ]
     },
     "execution_count": 33,
     "metadata": {},
     "output_type": "execute_result"
    }
   ],
   "source": [
    "table_statistics=pd.read_csv('./information/table_statistics.csv').iloc[70:,:]   #前70条系统表数据\n",
    "table_statistics.head()"
   ]
  },
  {
   "cell_type": "code",
   "execution_count": null,
   "metadata": {},
   "outputs": [],
   "source": [
    "Column_to_Table="
   ]
  },
  {
   "cell_type": "code",
   "execution_count": 45,
   "metadata": {
    "tags": []
   },
   "outputs": [
    {
     "data": {
      "text/html": [
       "<div>\n",
       "<style scoped>\n",
       "    .dataframe tbody tr th:only-of-type {\n",
       "        vertical-align: middle;\n",
       "    }\n",
       "\n",
       "    .dataframe tbody tr th {\n",
       "        vertical-align: top;\n",
       "    }\n",
       "\n",
       "    .dataframe thead th {\n",
       "        text-align: right;\n",
       "    }\n",
       "</style>\n",
       "<table border=\"1\" class=\"dataframe\">\n",
       "  <thead>\n",
       "    <tr style=\"text-align: right;\">\n",
       "      <th></th>\n",
       "      <th>Table</th>\n",
       "      <th>Rows</th>\n",
       "    </tr>\n",
       "  </thead>\n",
       "  <tbody>\n",
       "    <tr>\n",
       "      <th>0</th>\n",
       "      <td>customer</td>\n",
       "      <td>100000</td>\n",
       "    </tr>\n",
       "    <tr>\n",
       "      <th>1</th>\n",
       "      <td>store</td>\n",
       "      <td>12</td>\n",
       "    </tr>\n",
       "    <tr>\n",
       "      <th>2</th>\n",
       "      <td>web_sales</td>\n",
       "      <td>719384</td>\n",
       "    </tr>\n",
       "    <tr>\n",
       "      <th>3</th>\n",
       "      <td>inventory</td>\n",
       "      <td>11745095</td>\n",
       "    </tr>\n",
       "    <tr>\n",
       "      <th>4</th>\n",
       "      <td>store_returns</td>\n",
       "      <td>287514</td>\n",
       "    </tr>\n",
       "  </tbody>\n",
       "</table>\n",
       "</div>"
      ],
      "text/plain": [
       "           Table      Rows\n",
       "0       customer    100000\n",
       "1          store        12\n",
       "2      web_sales    719384\n",
       "3      inventory  11745095\n",
       "4  store_returns    287514"
      ]
     },
     "execution_count": 45,
     "metadata": {},
     "output_type": "execute_result"
    }
   ],
   "source": [
    "table_rows=pd.read_csv('./information/table_row_counts.csv') #前70条系统表数据\n",
    "table_rows.head()"
   ]
  },
  {
   "cell_type": "code",
   "execution_count": 48,
   "metadata": {
    "tags": []
   },
   "outputs": [],
   "source": [
    "Column_to_NullFraction_dict=dict(zip(table_statistics['Column'], table_statistics['Null Fraction']))\n",
    "Column_to_DistinctValues_dict=dict(zip(table_statistics['Column'], table_statistics['Distinct Values']))\n",
    "Column_list=table_statistics['Column'].values\n",
    "Column_to_Table=dict(zip(table_statistics['Column'], table_statistics['Table']))\n",
    "table_row_counts=dict(zip(table_rows['Table'], table_rows['Rows']))"
   ]
  },
  {
   "cell_type": "code",
   "execution_count": 51,
   "metadata": {
    "tags": []
   },
   "outputs": [],
   "source": [
    "# 创建一个字典来存储每个列对应的表的行数\n",
    "col_row_counts = {}\n",
    "\n",
    "# 遍历 Column_to_Table 字典中的每一对键值对\n",
    "for col, table in Column_to_Table.items():\n",
    "    # 获取列对应的表的行数\n",
    "    if table in table_row_counts:\n",
    "        row_count = table_row_counts[table]\n",
    "        # 将列和对应的表的行数存储到新的字典中\n",
    "        col_row_counts[col] = row_count\n",
    "    else:\n",
    "        print(f\"Table '{table}' not found in table_row_counts.\")"
   ]
  },
  {
   "cell_type": "code",
   "execution_count": 42,
   "metadata": {},
   "outputs": [
    {
     "data": {
      "text/plain": [
       "['i_category', 'i_class', 'i_item_desc', 'i_item_id']"
      ]
     },
     "execution_count": 42,
     "metadata": {},
     "output_type": "execute_result"
    }
   ],
   "source": [
    "def get_relative_col(plan):   #提取当前节点的涉及到的col\n",
    "    relative_col=[]\n",
    "    result_string = ''\n",
    "    for k,v in plan.items():\n",
    "        if k not in ['Plans','Plan']:\n",
    "            result_string+=str(v)\n",
    "    for col in Column_list:\n",
    "        if col in result_string:\n",
    "            relative_col.append(col)\n",
    "    return relative_col\n",
    "get_relative_col(plan_jsons[2]['Plan']['Plans'][0])"
   ]
  },
  {
   "cell_type": "code",
   "execution_count": 54,
   "metadata": {
    "tags": []
   },
   "outputs": [
    {
     "data": {
      "text/plain": [
       "(0.0028333333, 0.0055)"
      ]
     },
     "execution_count": 54,
     "metadata": {},
     "output_type": "execute_result"
    }
   ],
   "source": [
    "def get_max_NullFraction_DistinctValues(cols_list):\n",
    "    if len(cols_list)==0:#该算子没有涉及到列\n",
    "        return [0,1]\n",
    "    else:\n",
    "        NullFraction_value=[Column_to_NullFraction_dict[col] for col in cols_list]\n",
    "        DistinctValues_value=[Column_to_DistinctValues_dict[col]/col_row_counts[col] for col in cols_list]\n",
    "        table\n",
    "        \n",
    "        return max(NullFraction_value),max(DistinctValues_value)\n",
    "get_max_NullFraction_DistinctValues(get_relative_col(plan_jsons[2]['Plan']['Plans'][0]))"
   ]
  },
  {
   "cell_type": "code",
   "execution_count": null,
   "metadata": {},
   "outputs": [],
   "source": [
    "plan_jsons[2]['Plan']['Plans']"
   ]
  },
  {
   "cell_type": "markdown",
   "metadata": {},
   "source": [
    "## 分大类"
   ]
  },
  {
   "cell_type": "code",
   "execution_count": null,
   "metadata": {},
   "outputs": [],
   "source": [
    "total=['Limit', 'Aggregate', 'Gather Merge', 'Sort', 'Append', 'Hash Join', 'Nested Loop', 'Hash', 'Seq Scan', 'Index Scan', 'Gather', 'WindowAgg', 'Merge Join', 'Materialize', 'Subquery Scan', 'CTE Scan', 'Group', 'Index Only Scan', 'Bitmap Heap Scan', 'Bitmap Index Scan', 'SetOp', 'Result', 'Unique', 'Merge Append']\n",
    "after_fillter=['Limit', 'Aggregate', 'Gather Merge', 'Sort', 'Nested Loop', 'Index Scan', 'Hash Join', 'Hash', 'Seq Scan', 'Gather', 'WindowAgg', 'Merge Join', 'Materialize', 'Subquery Scan', 'Group', 'Index Only Scan', 'CTE Scan', 'SetOp', 'Append', 'Result', 'Unique', 'Bitmap Heap Scan', 'Bitmap Index Scan']\n",
    "set(total)-set(after_fillter)"
   ]
  },
  {
   "cell_type": "code",
   "execution_count": null,
   "metadata": {},
   "outputs": [],
   "source": [
    "tmp=limit_operators+aggregate_operators+merge_and_join_operators+sort_and_scan_operators+gather_and_materialize_operators+subquery_and_cte_operators+set_operation_and_others\n",
    "set(after_fillter)-set(tmp)"
   ]
  },
  {
   "cell_type": "code",
   "execution_count": null,
   "metadata": {},
   "outputs": [],
   "source": [
    "set(total)-set(scan)-set(join)"
   ]
  },
  {
   "cell_type": "code",
   "execution_count": null,
   "metadata": {},
   "outputs": [],
   "source": [
    "print(1)"
   ]
  },
  {
   "cell_type": "code",
   "execution_count": null,
   "metadata": {},
   "outputs": [],
   "source": []
  }
 ],
 "metadata": {
  "kernelspec": {
   "display_name": "Python 3 (ipykernel)",
   "language": "python",
   "name": "python3"
  },
  "language_info": {
   "codemirror_mode": {
    "name": "ipython",
    "version": 3
   },
   "file_extension": ".py",
   "mimetype": "text/x-python",
   "name": "python",
   "nbconvert_exporter": "python",
   "pygments_lexer": "ipython3",
   "version": "3.11.5"
  }
 },
 "nbformat": 4,
 "nbformat_minor": 4
}
